{
 "cells": [
  {
   "cell_type": "code",
   "execution_count": null,
   "metadata": {},
   "outputs": [],
   "source": [
    "# Me and Cleolipton had two spots\n",
    "# The 2 for 5 dollar hits with blue tops\n",
    "# Godda go Coolio, mean it's getting too hot\n",
    "# If Cleo had twins she'd probably have 2Putins\n",
    "\n",
    "Oh snap son! Ahhaaahhahahh\n",
    "\n",
    "# Obstruction, Collusion, Coercion\n",
    "\n",
    "# Illegal wiretapping, illegal hacking\n",
    "\n",
    "# Using state resources for personal benefit\n",
    "\n",
    "# Attempted Jedi mind tricking\n",
    "\n",
    "# Spamming, Drawing cartoons )))\n",
    "\n",
    "# Tempering with electrical grid\n",
    "\n",
    "# Running interference on behalf of foundation clients\n",
    "\n",
    "# Competition getting nervous?\n",
    "\n",
    "Welcome to Wall St!\n",
    "\n",
    "\n",
    "# And all of it for nothing, Ahhahahahah\n",
    "\n",
    "# All of this activity of yours is just making me randy darling.\n",
    "\n",
    "# Let me give you a piece of advice...\n",
    "# If you would have just sent me a birthday card on my bday, \n",
    "# you would have gotten a lot farther.\n",
    "# P.I.M.P., your lady is a piece of work )))\n",
    "\n",
    "Babalaow knows everything!\n",
    "\n",
    "\n",
    "# Whach you got a team of monkeys working on this around the clock?\n",
    "\n",
    "# Outrun me already!\n",
    "\n",
    "# 2017 results are almost in.\n",
    "\n",
    "Tik Tak! Tik Tak! Tik Tak!"
   ]
  }
 ],
 "metadata": {
  "kernelspec": {
   "display_name": "Python 3",
   "language": "python",
   "name": "python3"
  },
  "language_info": {
   "codemirror_mode": {
    "name": "ipython",
    "version": 3
   },
   "file_extension": ".py",
   "mimetype": "text/x-python",
   "name": "python",
   "nbconvert_exporter": "python",
   "pygments_lexer": "ipython3",
   "version": "3.5.2"
  }
 },
 "nbformat": 4,
 "nbformat_minor": 2
}
